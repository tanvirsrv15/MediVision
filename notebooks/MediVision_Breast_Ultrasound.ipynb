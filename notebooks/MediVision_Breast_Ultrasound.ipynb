{
 "cells": [
  {
   "cell_type": "code",
   "execution_count": 1,
   "id": "a50a7e72",
   "metadata": {},
   "outputs": [],
   "source": [
    "import os\n",
    "import numpy as np\n",
    "import matplotlib.pyplot as plt\n",
    "import seaborn as sns\n",
    "import cv2\n",
    "from sklearn.model_selection import train_test_split\n",
    "from sklearn.preprocessing import LabelEncoder, OneHotEncoder\n",
    "from sklearn.metrics import accuracy_score, classification_report, confusion_matrix\n",
    "from keras.utils import to_categorical\n",
    "from keras.models import Sequential\n",
    "from keras.layers import Dense, Flatten, Conv2D, MaxPooling2D\n",
    "from tensorflow.keras.preprocessing.image import ImageDataGenerator\n",
    "from tensorflow.keras.layers import Conv2D, MaxPooling2D, Flatten, Dense, Dropout, BatchNormalization\n",
    "from keras.layers import Reshape\n",
    "from tensorflow.keras.layers import Input, Conv2D, MaxPooling2D, Flatten, Reshape, LSTM, Dense, Add\n",
    "from tensorflow.keras.optimizers import Adam\n",
    "from tensorflow.keras.layers import Conv2D, MaxPooling2D, Flatten, LSTM, Dense, Reshape, GRU\n",
    "from tensorflow.keras.models import Sequential\n",
    "from tensorflow.keras.callbacks import ModelCheckpoint, EarlyStopping\n",
    "from tensorflow.keras.layers import Layer"
   ]
  },
  {
   "cell_type": "code",
   "execution_count": 2,
   "id": "2bed6323",
   "metadata": {},
   "outputs": [],
   "source": [
    "def load_images(folder_path, image_size=(64,64)):\n",
    "    data = []\n",
    "    labels = []\n",
    "\n",
    "    label = os.path.basename(folder_path)  # Extract the label from the folder name\n",
    "\n",
    "    for filename in os.listdir(folder_path):\n",
    "        img_path = os.path.join(folder_path, filename)\n",
    "        if os.path.isfile(img_path):  # Check if it is a file\n",
    "            img = cv2.imread(img_path)\n",
    "            if img is not None:  # Check if the image was read correctly\n",
    "                img = cv2.resize(img, image_size)  # Resize images to a common size\n",
    "                data.append(img)\n",
    "                labels.append(label)\n",
    "\n",
    "    return np.array(data), np.array(labels)\n",
    "\n",
    "dataset_path = r\"E:\\Dataset\\Breast_cvxr\"\n",
    "\n",
    "# Load images for each type of chest X-ray\n",
    "data_benign, labels_benign = load_images(os.path.join(dataset_path, 'benign'))\n",
    "data_malignant, labels_malignant = load_images(os.path.join(dataset_path, 'malignant'))"
   ]
  },
  {
   "cell_type": "code",
   "execution_count": 3,
   "id": "57235bb1",
   "metadata": {},
   "outputs": [
    {
     "data": {
      "text/plain": [
       "(4074, 64, 64, 3)"
      ]
     },
     "execution_count": 3,
     "metadata": {},
     "output_type": "execute_result"
    }
   ],
   "source": [
    "data_benign.shape"
   ]
  },
  {
   "cell_type": "code",
   "execution_count": 4,
   "id": "52e9ac59",
   "metadata": {},
   "outputs": [
    {
     "data": {
      "text/plain": [
       "(4042, 64, 64, 3)"
      ]
     },
     "execution_count": 4,
     "metadata": {},
     "output_type": "execute_result"
    }
   ],
   "source": [
    "data_malignant.shape"
   ]
  },
  {
   "cell_type": "code",
   "execution_count": 5,
   "id": "a4076f0f",
   "metadata": {},
   "outputs": [],
   "source": [
    "# Combine data and labels for all tumor types\n",
    "All_data = np.concatenate([data_benign, data_malignant])\n",
    "All_labels = np.concatenate([labels_benign, labels_malignant])"
   ]
  },
  {
   "cell_type": "code",
   "execution_count": 6,
   "id": "73730f51",
   "metadata": {},
   "outputs": [
    {
     "data": {
      "text/plain": [
       "(8116, 64, 64, 3)"
      ]
     },
     "execution_count": 6,
     "metadata": {},
     "output_type": "execute_result"
    }
   ],
   "source": [
    "All_data.shape"
   ]
  },
  {
   "cell_type": "code",
   "execution_count": 7,
   "id": "1b5f0d77",
   "metadata": {},
   "outputs": [
    {
     "data": {
      "image/png": "[encoded data removed]",
      "text/plain": [
       "<Figure size 576x432 with 1 Axes>"
      ]
     },
     "metadata": {
      "needs_background": "light"
     },
     "output_type": "display_data"
    }
   ],
   "source": [
    "unique_labels, label_counts = np.unique(All_labels, return_counts=True)\n",
    "plt.figure(figsize=(8, 6))\n",
    "plt.bar(unique_labels, label_counts, color=['red', 'green'])\n",
    "plt.xlabel('Diseases Types')\n",
    "plt.ylabel('Number of Samples')\n",
    "plt.title('Distribution of Diseases Types in the Dataset')\n",
    "for i, count in enumerate(label_counts):\n",
    "    plt.text(i, count + 20, str(count), ha='center', va='bottom')\n",
    "\n",
    "plt.xticks(unique_labels, ['Benign', 'Malignant'])\n",
    "plt.show()"
   ]
  },
  {
   "cell_type": "code",
   "execution_count": 8,
   "id": "d9f55256",
   "metadata": {},
   "outputs": [],
   "source": [
    "# Normalize Pixel Values\n",
    "All_data_normalized = All_data / 255.0"
   ]
  },
  {
   "cell_type": "code",
   "execution_count": 9,
   "id": "a89fb873",
   "metadata": {},
   "outputs": [],
   "source": [
    "# Encode Labels\n",
    "label_encoder = LabelEncoder()\n",
    "all_labels_encoded = label_encoder.fit_transform(All_labels)\n",
    "all_labels_categorical = to_categorical(all_labels_encoded)\n",
    "train_data, test_data, train_labels, test_labels = train_test_split(\n",
    "    All_data_normalized, all_labels_categorical, test_size=0.15, random_state=42)"
   ]
  },
  {
   "cell_type": "code",
   "execution_count": 10,
   "id": "8d102f11",
   "metadata": {},
   "outputs": [
    {
     "data": {
      "text/plain": [
       "(8116, 2)"
      ]
     },
     "execution_count": 10,
     "metadata": {},
     "output_type": "execute_result"
    }
   ],
   "source": [
    "all_labels_categorical.shape"
   ]
  },
  {
   "cell_type": "code",
   "execution_count": null,
   "id": "c60ce21c",
   "metadata": {},
   "outputs": [],
   "source": [
    "image_size = (64, 64)\n",
    "num_classes = 2"
   ]
  },
  {
   "cell_type": "code",
   "execution_count": 12,
   "id": "796a491b",
   "metadata": {},
   "outputs": [],
   "source": [
    "import tensorflow as tf\n",
    "from tensorflow.keras.layers import Layer\n",
    "\n",
    "class Attention(Layer):\n",
    "    def __init__(self, **kwargs):\n",
    "        super(Attention, self).__init__(**kwargs)\n",
    "\n",
    "    def build(self, input_shape):\n",
    "        self.W = self.add_weight(name=\"att_weight\", shape=(input_shape[-1], input_shape[-1]), initializer=\"glorot_uniform\", trainable=True)\n",
    "        self.b = self.add_weight(name=\"att_bias\", shape=(input_shape[-1],), initializer=\"zeros\", trainable=True)\n",
    "        super(Attention, self).build(input_shape)\n",
    "\n",
    "    def call(self, x):\n",
    "        et = tf.nn.tanh(tf.tensordot(x, self.W, axes=(2, 0)) + self.b)\n",
    "        at = tf.nn.softmax(et, axis=1)\n",
    "        ot = x * at\n",
    "        return tf.reduce_sum(ot, axis=1)"
   ]
  },
  {
   "cell_type": "code",
   "execution_count": 13,
   "id": "ec8f315f",
   "metadata": {},
   "outputs": [
    {
     "name": "stdout",
     "output_type": "stream",
     "text": [
      "Model: \"model\"\n",
      "__________________________________________________________________________________________________\n",
      " Layer (type)                Output Shape                 Param #   Connected to                  \n",
      "==================================================================================================\n",
      " input_1 (InputLayer)        [(None, 64, 64, 3)]          0         []                            \n",
      "                                                                                                  \n",
      " conv2d (Conv2D)             (None, 62, 62, 16)           448       ['input_1[0][0]']             \n",
      "                                                                                                  \n",
      " max_pooling2d (MaxPooling2  (None, 31, 31, 16)           0         ['conv2d[0][0]']              \n",
      " D)                                                                                               \n",
      "                                                                                                  \n",
      " dropout (Dropout)           (None, 31, 31, 16)           0         ['max_pooling2d[0][0]']       \n",
      "                                                                                                  \n",
      " conv2d_1 (Conv2D)           (None, 29, 29, 32)           4640      ['dropout[0][0]']             \n",
      "                                                                                                  \n",
      " max_pooling2d_1 (MaxPoolin  (None, 14, 14, 32)           0         ['conv2d_1[0][0]']            \n",
      " g2D)                                                                                             \n",
      "                                                                                                  \n",
      " dropout_1 (Dropout)         (None, 14, 14, 32)           0         ['max_pooling2d_1[0][0]']     \n",
      "                                                                                                  \n",
      " flatten (Flatten)           (None, 6272)                 0         ['dropout_1[0][0]']           \n",
      "                                                                                                  \n",
      " reshape (Reshape)           (None, 1, 6272)              0         ['flatten[0][0]']             \n",
      "                                                                                                  \n",
      " lstm (LSTM)                 (None, 1, 50)                1264600   ['reshape[0][0]']             \n",
      "                                                                                                  \n",
      " dropout_2 (Dropout)         (None, 1, 50)                0         ['lstm[0][0]']                \n",
      "                                                                                                  \n",
      " attention (Attention)       (None, 50)                   2550      ['dropout_2[0][0]']           \n",
      "                                                                                                  \n",
      " tf.math.reduce_sum (TFOpLa  (None, 50)                   0         ['dropout_2[0][0]']           \n",
      " mbda)                                                                                            \n",
      "                                                                                                  \n",
      " add (Add)                   (None, 50)                   0         ['attention[0][0]',           \n",
      "                                                                     'tf.math.reduce_sum[0][0]']  \n",
      "                                                                                                  \n",
      " dense (Dense)               (None, 2)                    102       ['add[0][0]']                 \n",
      "                                                                                                  \n",
      "==================================================================================================\n",
      "Total params: 1272340 (4.85 MB)\n",
      "Trainable params: 1272340 (4.85 MB)\n",
      "Non-trainable params: 0 (0.00 Byte)\n",
      "__________________________________________________________________________________________________\n"
     ]
    }
   ],
   "source": [
    "from tensorflow.keras.models import Model\n",
    "inputs = Input(shape=(image_size + (3,)))\n",
    "\n",
    "# CNN layers with Dropout\n",
    "x = Conv2D(16, kernel_size=(3, 3), activation=\"relu\")(inputs)\n",
    "x = MaxPooling2D(pool_size=(2, 2))(x)\n",
    "x = Dropout(0.3)(x)  # Adding Dropout after the first max pooling layer\n",
    "x = Conv2D(32, kernel_size=(3, 3), activation=\"relu\")(x)\n",
    "x = MaxPooling2D(pool_size=(2, 2))(x)\n",
    "x = Dropout(0.3)(x)  # Adding Dropout after the second max pooling layer\n",
    "x = Flatten()(x)\n",
    "\n",
    "# Reshape the output to fit the LSTM input\n",
    "x = Reshape((1, -1))(x)\n",
    "\n",
    "# Single LSTM layer with Dropout\n",
    "lstm_out = LSTM(50, return_sequences=True)(x)\n",
    "lstm_out = Dropout(0.3)(lstm_out)  # Adding Dropout after LSTM layer\n",
    "\n",
    "# Attention mechanism\n",
    "attention_output = Attention()(lstm_out)\n",
    "\n",
    "# Skip connection to final dense layer\n",
    "combined_output = Add()([attention_output, tf.reduce_sum(lstm_out, axis=1)])\n",
    "\n",
    "# Final dense layer\n",
    "outputs = Dense(2, activation=\"softmax\")(combined_output)\n",
    "\n",
    "# Define the combined model\n",
    "combined_model = Model(inputs=inputs, outputs=outputs)\n",
    "\n",
    "# Compile the model\n",
    "combined_model.compile(loss=\"categorical_crossentropy\", optimizer=\"adam\", metrics=[\"accuracy\"])\n",
    "\n",
    "# Callbacks\n",
    "checkpoint_callback = ModelCheckpoint(\"best_model.h5\", save_best_only=True, monitor=\"val_loss\", mode=\"min\")\n",
    "early_stopping_callback = EarlyStopping(patience=5, monitor=\"val_loss\", mode=\"min\", restore_best_weights=True)\n",
    "\n",
    "# Model summary\n",
    "combined_model.summary()"
   ]
  },
  {
   "cell_type": "code",
   "execution_count": 14,
   "id": "b29fbaec",
   "metadata": {},
   "outputs": [
    {
     "name": "stdout",
     "output_type": "stream",
     "text": [
      "Epoch 1/40\n",
      "367/367 [==============================] - 18s 43ms/step - loss: 0.4996 - accuracy: 0.7508 - val_loss: 0.3918 - val_accuracy: 0.8213\n",
      "Epoch 2/40\n"
     ]
    },
    {
     "name": "stderr",
     "output_type": "stream",
     "text": [
      "C:\\Users\\ASUS\\anaconda3\\lib\\site-packages\\keras\\src\\engine\\training.py:3000: UserWarning: You are saving your model as an HDF5 file via `model.save()`. This file format is considered legacy. We recommend using instead the native Keras format, e.g. `model.save('my_model.keras')`.\n",
      "  saving_api.save_model(\n"
     ]
    },
    {
     "name": "stdout",
     "output_type": "stream",
     "text": [
      "367/367 [==============================] - 17s 45ms/step - loss: 0.3235 - accuracy: 0.8566 - val_loss: 0.3052 - val_accuracy: 0.8715\n",
      "Epoch 3/40\n",
      "367/367 [==============================] - 17s 46ms/step - loss: 0.2410 - accuracy: 0.8953 - val_loss: 0.2112 - val_accuracy: 0.9314\n",
      "Epoch 4/40\n",
      "367/367 [==============================] - 15s 42ms/step - loss: 0.1644 - accuracy: 0.9345 - val_loss: 0.1271 - val_accuracy: 0.9488\n",
      "Epoch 5/40\n",
      "367/367 [==============================] - 14s 38ms/step - loss: 0.1146 - accuracy: 0.9528 - val_loss: 0.0982 - val_accuracy: 0.9643\n",
      "Epoch 6/40\n",
      "367/367 [==============================] - 15s 42ms/step - loss: 0.0840 - accuracy: 0.9683 - val_loss: 0.0916 - val_accuracy: 0.9681\n",
      "Epoch 7/40\n",
      "367/367 [==============================] - 15s 41ms/step - loss: 0.0700 - accuracy: 0.9732 - val_loss: 0.0656 - val_accuracy: 0.9739\n",
      "Epoch 8/40\n",
      "367/367 [==============================] - 14s 39ms/step - loss: 0.0642 - accuracy: 0.9766 - val_loss: 0.0522 - val_accuracy: 0.9836\n",
      "Epoch 9/40\n",
      "367/367 [==============================] - 15s 41ms/step - loss: 0.0449 - accuracy: 0.9829 - val_loss: 0.0600 - val_accuracy: 0.9749\n",
      "Epoch 10/40\n",
      "367/367 [==============================] - 14s 39ms/step - loss: 0.0417 - accuracy: 0.9845 - val_loss: 0.0616 - val_accuracy: 0.9787\n",
      "Epoch 11/40\n",
      "367/367 [==============================] - 15s 40ms/step - loss: 0.0355 - accuracy: 0.9872 - val_loss: 0.0580 - val_accuracy: 0.9768\n",
      "Epoch 12/40\n",
      "367/367 [==============================] - 13s 35ms/step - loss: 0.0299 - accuracy: 0.9901 - val_loss: 0.0560 - val_accuracy: 0.9807\n",
      "Epoch 13/40\n",
      "367/367 [==============================] - 13s 35ms/step - loss: 0.0267 - accuracy: 0.9901 - val_loss: 0.0553 - val_accuracy: 0.9816\n"
     ]
    }
   ],
   "source": [
    "history = combined_model.fit(\n",
    "    train_data,\n",
    "    train_labels,\n",
    "    epochs=40,\n",
    "    batch_size=16,\n",
    "    validation_split=0.15,\n",
    "    callbacks=[checkpoint_callback, early_stopping_callback]\n",
    ")"
   ]
  },
  {
   "cell_type": "code",
   "execution_count": 15,
   "id": "8b101935",
   "metadata": {},
   "outputs": [
    {
     "data": {
      "image/png": "[encoded data removed]",
      "text/plain": [
       "<Figure size 720x576 with 2 Axes>"
      ]
     },
     "metadata": {
      "needs_background": "light"
     },
     "output_type": "display_data"
    }
   ],
   "source": [
    "# Create a figure with subplots\n",
    "fig, axs = plt.subplots(2, 1, figsize=(10, 8))\n",
    "\n",
    "# Plot Accuracy\n",
    "axs[0].plot(history.history['accuracy'], label='Train Accuracy')\n",
    "axs[0].plot(history.history['val_accuracy'], label='Validation Accuracy')\n",
    "axs[0].set_title('Model Accuracy (CNN-LSTM)')\n",
    "axs[0].set_xlabel('Epoch')\n",
    "axs[0].set_ylabel('Accuracy')\n",
    "axs[0].legend(loc='upper left')\n",
    "\n",
    "# Plot Loss\n",
    "axs[1].plot(history.history['loss'], label='Train Loss')\n",
    "axs[1].plot(history.history['val_loss'], label='Validation Loss')\n",
    "axs[1].set_title('Model Loss (CNN-LSTM)')\n",
    "axs[1].set_xlabel('Epoch')\n",
    "axs[1].set_ylabel('Loss')\n",
    "axs[1].legend(loc='upper left')\n",
    "\n",
    "plt.tight_layout()\n",
    "plt.show()"
   ]
  },
  {
   "cell_type": "code",
   "execution_count": 16,
   "id": "5a5b2232",
   "metadata": {},
   "outputs": [
    {
     "name": "stdout",
     "output_type": "stream",
     "text": [
      "39/39 [==============================] - 1s 12ms/step - loss: 0.0820 - accuracy: 0.9745\n",
      "Test Accuracy: 97.45%\n"
     ]
    }
   ],
   "source": [
    "loss, accuracy = combined_model.evaluate(test_data, test_labels)\n",
    "print(f\"Test Accuracy: {accuracy * 100:.2f}%\")"
   ]
  },
  {
   "cell_type": "code",
   "execution_count": 17,
   "id": "4d97be11",
   "metadata": {},
   "outputs": [
    {
     "name": "stdout",
     "output_type": "stream",
     "text": [
      "39/39 [==============================] - 1s 12ms/step\n",
      "              precision    recall  f1-score   support\n",
      "\n",
      "      benign       0.97      0.98      0.97       618\n",
      "   malignant       0.98      0.97      0.97       600\n",
      "\n",
      "    accuracy                           0.97      1218\n",
      "   macro avg       0.97      0.97      0.97      1218\n",
      "weighted avg       0.97      0.97      0.97      1218\n",
      "\n"
     ]
    }
   ],
   "source": [
    "# Predictions and classification report\n",
    "y_pred = combined_model.predict(test_data)\n",
    "y_pred_classes = np.argmax(y_pred, axis=1)\n",
    "y_true = np.argmax(test_labels, axis=1)\n",
    "\n",
    "print(classification_report(y_true, y_pred_classes, target_names=label_encoder.classes_))"
   ]
  },
  {
   "cell_type": "code",
   "execution_count": 18,
   "id": "d40cbb61",
   "metadata": {},
   "outputs": [
    {
     "data": {
      "image/png": "[encoded data removed]",
      "text/plain": [
       "<Figure size 432x288 with 2 Axes>"
      ]
     },
     "metadata": {
      "needs_background": "light"
     },
     "output_type": "display_data"
    }
   ],
   "source": [
    "# Confusion matrix\n",
    "conf_matrix = confusion_matrix(y_true, y_pred_classes)\n",
    "sns.heatmap(conf_matrix, annot=True, fmt='d', cmap='Blues', xticklabels=label_encoder.classes_, yticklabels=label_encoder.classes_)\n",
    "plt.xlabel('Predicted')\n",
    "plt.ylabel('True')\n",
    "plt.title('Confusion Matrix')\n",
    "plt.show()"
   ]
  },
  {
   "cell_type": "code",
   "execution_count": 19,
   "id": "351d7794",
   "metadata": {},
   "outputs": [
    {
     "name": "stderr",
     "output_type": "stream",
     "text": [
      "C:\\Users\\ASUS\\anaconda3\\lib\\site-packages\\keras\\src\\engine\\training.py:3000: UserWarning: You are saving your model as an HDF5 file via `model.save()`. This file format is considered legacy. We recommend using instead the native Keras format, e.g. `model.save('my_model.keras')`.\n",
      "  saving_api.save_model(\n"
     ]
    }
   ],
   "source": [
    "#combined_model.save(\"trained_combined_model_attention.h5\")"
   ]
  },
  {
   "cell_type": "code",
   "execution_count": null,
   "id": "b154554d",
   "metadata": {},
   "outputs": [],
   "source": []
  }
 ],
 "metadata": {
  "kernelspec": {
   "display_name": "Python 3",
   "language": "python",
   "name": "python3"
  },
  "language_info": {
   "codemirror_mode": {
    "name": "ipython",
    "version": 3
   },
   "file_extension": ".py",
   "mimetype": "text/x-python",
   "name": "python",
   "nbconvert_exporter": "python",
   "pygments_lexer": "ipython3",
   "version": "3.8.8"
  }
 },
 "nbformat": 4,
 "nbformat_minor": 5
}
