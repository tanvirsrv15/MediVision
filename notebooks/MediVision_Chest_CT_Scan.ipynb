{
 "cells": [
  {
   "cell_type": "code",
   "execution_count": 1,
   "id": "459896a7",
   "metadata": {},
   "outputs": [],
   "source": [
    "import os\n",
    "import numpy as np\n",
    "import matplotlib.pyplot as plt\n",
    "import seaborn as sns\n",
    "import cv2\n",
    "from sklearn.model_selection import train_test_split\n",
    "from sklearn.preprocessing import LabelEncoder, OneHotEncoder\n",
    "from sklearn.metrics import accuracy_score, classification_report, confusion_matrix\n",
    "from keras.utils import to_categorical\n",
    "from keras.models import Sequential\n",
    "from keras.layers import Dense, Flatten, Conv2D, MaxPooling2D\n",
    "from tensorflow.keras.preprocessing.image import ImageDataGenerator\n",
    "from tensorflow.keras.layers import Conv2D, MaxPooling2D, Flatten, Dense, Dropout, BatchNormalization\n",
    "from keras.layers import Reshape\n",
    "from tensorflow.keras.layers import Input, Conv2D, MaxPooling2D, Flatten, Reshape, LSTM, Dense, Add\n",
    "from tensorflow.keras.optimizers import Adam\n",
    "from tensorflow.keras.layers import Conv2D, MaxPooling2D, Flatten, LSTM, Dense, Reshape, GRU\n",
    "from tensorflow.keras.models import Sequential\n",
    "from tensorflow.keras.callbacks import ModelCheckpoint, EarlyStopping\n",
    "from tensorflow.keras.layers import Layer"
   ]
  },
  {
   "cell_type": "code",
   "execution_count": 2,
   "id": "2139c733",
   "metadata": {},
   "outputs": [],
   "source": [
    "def load_images(folder_path, image_size=(64,64)):\n",
    "    data = []\n",
    "    labels = []\n",
    "\n",
    "    label = os.path.basename(folder_path)  # Extract the label from the folder name\n",
    "\n",
    "    for filename in os.listdir(folder_path):\n",
    "        img_path = os.path.join(folder_path, filename)\n",
    "        if os.path.isfile(img_path):  # Check if it is a file\n",
    "            img = cv2.imread(img_path)\n",
    "            if img is not None:  # Check if the image was read correctly\n",
    "                img = cv2.resize(img, image_size)  # Resize images to a common size\n",
    "                data.append(img)\n",
    "                labels.append(label)\n",
    "\n",
    "    return np.array(data), np.array(labels)\n",
    "\n",
    "dataset_path = r\"E:\\Dataset\\Chest CT Scan Images\\Augmented_Images_1000\"\n",
    "\n",
    "# Load images for each type of chest X-ray\n",
    "data_Adenocarcinoma, labels_Adenocarcinoma = load_images(os.path.join(dataset_path, 'Adenocarcinoma'))\n",
    "data_Large_cell_carcinoma, labels_Large_cell_carcinoma = load_images(os.path.join(dataset_path, 'Large cell carcinoma'))\n",
    "data_Normal, labels_Normal = load_images(os.path.join(dataset_path, 'Normal'))\n",
    "data_Squamous_cell_carcinoma, labels_Squamous_cell_carcinoma = load_images(os.path.join(dataset_path, 'Squamous cell carcinoma'))"
   ]
  },
  {
   "cell_type": "code",
   "execution_count": 3,
   "id": "9dce64a6",
   "metadata": {},
   "outputs": [
    {
     "data": {
      "text/plain": [
       "(1000, 64, 64, 3)"
      ]
     },
     "execution_count": 3,
     "metadata": {},
     "output_type": "execute_result"
    }
   ],
   "source": [
    "data_Adenocarcinoma.shape"
   ]
  },
  {
   "cell_type": "code",
   "execution_count": 4,
   "id": "efd00c72",
   "metadata": {},
   "outputs": [],
   "source": [
    "# Combine data and labels for all tumor types\n",
    "All_data = np.concatenate([data_Adenocarcinoma, data_Large_cell_carcinoma, data_Normal,data_Squamous_cell_carcinoma])\n",
    "All_labels = np.concatenate([labels_Adenocarcinoma, labels_Large_cell_carcinoma, labels_Normal, labels_Squamous_cell_carcinoma])"
   ]
  },
  {
   "cell_type": "code",
   "execution_count": 5,
   "id": "0c69b3e4",
   "metadata": {},
   "outputs": [
    {
     "data": {
      "text/plain": [
       "(4000, 64, 64, 3)"
      ]
     },
     "execution_count": 5,
     "metadata": {},
     "output_type": "execute_result"
    }
   ],
   "source": [
    "All_data.shape"
   ]
  },
  {
   "cell_type": "code",
   "execution_count": 6,
   "id": "8b9762ad",
   "metadata": {},
   "outputs": [
    {
     "data": {
      "image/png": "[encoded data removed]",
      "text/plain": [
       "<Figure size 720x432 with 1 Axes>"
      ]
     },
     "metadata": {
      "needs_background": "light"
     },
     "output_type": "display_data"
    }
   ],
   "source": [
    "unique_labels, label_counts = np.unique(All_labels, return_counts=True)\n",
    "plt.figure(figsize=(10, 6))\n",
    "plt.bar(unique_labels, label_counts, color=['red', 'green', 'blue', 'black'])\n",
    "plt.xlabel('Diseases Types')\n",
    "plt.ylabel('Number of Samples')\n",
    "plt.title('Distribution of Diseases Types in the Dataset')\n",
    "for i, count in enumerate(label_counts):\n",
    "    plt.text(i, count + 20, str(count), ha='center', va='bottom')\n",
    "\n",
    "plt.xticks(unique_labels, ['Adenocarcinoma', 'Large_cell_carcinoma', 'Normal', 'Squamous_cell_carcinoma'])\n",
    "plt.show()"
   ]
  },
  {
   "cell_type": "code",
   "execution_count": 7,
   "id": "d6aa1fbd",
   "metadata": {},
   "outputs": [],
   "source": [
    "# Normalize Pixel Values\n",
    "All_data_normalized = All_data / 255.0"
   ]
  },
  {
   "cell_type": "code",
   "execution_count": 8,
   "id": "60795580",
   "metadata": {},
   "outputs": [],
   "source": [
    "# Encode Labels\n",
    "label_encoder = LabelEncoder()\n",
    "all_labels_encoded = label_encoder.fit_transform(All_labels)\n",
    "train_data, test_data, train_labels, test_labels = train_test_split(\n",
    "    All_data_normalized, all_labels_encoded, test_size=0.15, random_state=42\n",
    ")"
   ]
  },
  {
   "cell_type": "code",
   "execution_count": 9,
   "id": "69fc6740",
   "metadata": {},
   "outputs": [
    {
     "data": {
      "text/plain": [
       "(3400, 64, 64, 3)"
      ]
     },
     "execution_count": 9,
     "metadata": {},
     "output_type": "execute_result"
    }
   ],
   "source": [
    "train_data.shape"
   ]
  },
  {
   "cell_type": "code",
   "execution_count": 10,
   "id": "6d59567d",
   "metadata": {},
   "outputs": [
    {
     "data": {
      "text/plain": [
       "(600, 64, 64, 3)"
      ]
     },
     "execution_count": 10,
     "metadata": {},
     "output_type": "execute_result"
    }
   ],
   "source": [
    "test_data.shape"
   ]
  },
  {
   "cell_type": "code",
   "execution_count": 11,
   "id": "dcad61fa",
   "metadata": {},
   "outputs": [],
   "source": [
    "import tensorflow as tf\n",
    "from tensorflow.keras.layers import Layer\n",
    "\n",
    "class Attention(Layer):\n",
    "    def __init__(self, **kwargs):\n",
    "        super(Attention, self).__init__(**kwargs)\n",
    "\n",
    "    def build(self, input_shape):\n",
    "        self.W = self.add_weight(name=\"att_weight\", shape=(input_shape[-1], input_shape[-1]), initializer=\"glorot_uniform\", trainable=True)\n",
    "        self.b = self.add_weight(name=\"att_bias\", shape=(input_shape[-1],), initializer=\"zeros\", trainable=True)\n",
    "        super(Attention, self).build(input_shape)\n",
    "\n",
    "    def call(self, x):\n",
    "        et = tf.nn.tanh(tf.tensordot(x, self.W, axes=(2, 0)) + self.b)\n",
    "        at = tf.nn.softmax(et, axis=1)\n",
    "        ot = x * at\n",
    "        return tf.reduce_sum(ot, axis=1)"
   ]
  },
  {
   "cell_type": "code",
   "execution_count": 12,
   "id": "8c4ec7b8",
   "metadata": {},
   "outputs": [],
   "source": [
    "image_size = (64, 64)\n",
    "num_classes = 4"
   ]
  },
  {
   "cell_type": "code",
   "execution_count": 13,
   "id": "c44de1bb",
   "metadata": {},
   "outputs": [
    {
     "name": "stdout",
     "output_type": "stream",
     "text": [
      "Model: \"model\"\n",
      "__________________________________________________________________________________________________\n",
      " Layer (type)                Output Shape                 Param #   Connected to                  \n",
      "==================================================================================================\n",
      " input_1 (InputLayer)        [(None, 64, 64, 3)]          0         []                            \n",
      "                                                                                                  \n",
      " conv2d (Conv2D)             (None, 62, 62, 16)           448       ['input_1[0][0]']             \n",
      "                                                                                                  \n",
      " max_pooling2d (MaxPooling2  (None, 31, 31, 16)           0         ['conv2d[0][0]']              \n",
      " D)                                                                                               \n",
      "                                                                                                  \n",
      " dropout (Dropout)           (None, 31, 31, 16)           0         ['max_pooling2d[0][0]']       \n",
      "                                                                                                  \n",
      " conv2d_1 (Conv2D)           (None, 29, 29, 32)           4640      ['dropout[0][0]']             \n",
      "                                                                                                  \n",
      " max_pooling2d_1 (MaxPoolin  (None, 14, 14, 32)           0         ['conv2d_1[0][0]']            \n",
      " g2D)                                                                                             \n",
      "                                                                                                  \n",
      " dropout_1 (Dropout)         (None, 14, 14, 32)           0         ['max_pooling2d_1[0][0]']     \n",
      "                                                                                                  \n",
      " flatten (Flatten)           (None, 6272)                 0         ['dropout_1[0][0]']           \n",
      "                                                                                                  \n",
      " reshape (Reshape)           (None, 1, 6272)              0         ['flatten[0][0]']             \n",
      "                                                                                                  \n",
      " lstm (LSTM)                 (None, 1, 50)                1264600   ['reshape[0][0]']             \n",
      "                                                                                                  \n",
      " dropout_2 (Dropout)         (None, 1, 50)                0         ['lstm[0][0]']                \n",
      "                                                                                                  \n",
      " attention (Attention)       (None, 50)                   2550      ['dropout_2[0][0]']           \n",
      "                                                                                                  \n",
      " tf.math.reduce_sum (TFOpLa  (None, 50)                   0         ['dropout_2[0][0]']           \n",
      " mbda)                                                                                            \n",
      "                                                                                                  \n",
      " add (Add)                   (None, 50)                   0         ['attention[0][0]',           \n",
      "                                                                     'tf.math.reduce_sum[0][0]']  \n",
      "                                                                                                  \n",
      " dense (Dense)               (None, 4)                    204       ['add[0][0]']                 \n",
      "                                                                                                  \n",
      "==================================================================================================\n",
      "Total params: 1272442 (4.85 MB)\n",
      "Trainable params: 1272442 (4.85 MB)\n",
      "Non-trainable params: 0 (0.00 Byte)\n",
      "__________________________________________________________________________________________________\n"
     ]
    }
   ],
   "source": [
    "from tensorflow.keras.models import Model\n",
    "inputs = Input(shape=(image_size + (3,)))\n",
    "\n",
    "# CNN layers with Dropout\n",
    "x = Conv2D(16, kernel_size=(3, 3), activation=\"relu\")(inputs)\n",
    "x = MaxPooling2D(pool_size=(2, 2))(x)\n",
    "x = Dropout(0.4)(x)  \n",
    "x = Conv2D(32, kernel_size=(3, 3), activation=\"relu\")(x)\n",
    "x = MaxPooling2D(pool_size=(2, 2))(x)\n",
    "x = Dropout(0.4)(x) \n",
    "x = Flatten()(x)\n",
    "\n",
    "x = Reshape((1, -1))(x)\n",
    "\n",
    "lstm_out = LSTM(50, return_sequences=True)(x)\n",
    "lstm_out = Dropout(0.4)(lstm_out) \n",
    "\n",
    "attention_output = Attention()(lstm_out)\n",
    "\n",
    "combined_output = Add()([attention_output, tf.reduce_sum(lstm_out, axis=1)])\n",
    "\n",
    "outputs = Dense(num_classes, activation=\"softmax\")(combined_output)\n",
    "\n",
    "combined_model = Model(inputs=inputs, outputs=outputs)\n",
    "\n",
    "optimizer = Adam(learning_rate=0.001)\n",
    "combined_model.compile(loss=\"sparse_categorical_crossentropy\", optimizer=optimizer, metrics=[\"accuracy\"])\n",
    "\n",
    "\n",
    "checkpoint_callback = ModelCheckpoint(\"best_model.h5\", save_best_only=True, monitor=\"val_loss\", mode=\"min\")\n",
    "early_stopping_callback = EarlyStopping(patience=6, monitor=\"val_loss\", mode=\"min\", restore_best_weights=True)\n",
    "\n",
    "combined_model.summary()"
   ]
  },
  {
   "cell_type": "code",
   "execution_count": 14,
   "id": "9972f729",
   "metadata": {},
   "outputs": [
    {
     "name": "stdout",
     "output_type": "stream",
     "text": [
      "Epoch 1/40\n",
      "181/181 [==============================] - ETA: 0s - loss: 0.9973 - accuracy: 0.5471"
     ]
    },
    {
     "name": "stderr",
     "output_type": "stream",
     "text": [
      "C:\\Users\\ASUS\\anaconda3\\lib\\site-packages\\keras\\src\\engine\\training.py:3000: UserWarning: You are saving your model as an HDF5 file via `model.save()`. This file format is considered legacy. We recommend using instead the native Keras format, e.g. `model.save('my_model.keras')`.\n",
      "  saving_api.save_model(\n"
     ]
    },
    {
     "name": "stdout",
     "output_type": "stream",
     "text": [
      "181/181 [==============================] - 26s 83ms/step - loss: 0.9973 - accuracy: 0.5471 - val_loss: 1.1631 - val_accuracy: 0.5137\n",
      "Epoch 2/40\n",
      "181/181 [==============================] - 13s 71ms/step - loss: 0.6210 - accuracy: 0.7478 - val_loss: 0.5123 - val_accuracy: 0.7902\n",
      "Epoch 3/40\n",
      "181/181 [==============================] - 13s 72ms/step - loss: 0.4462 - accuracy: 0.8204 - val_loss: 0.4106 - val_accuracy: 0.8255\n",
      "Epoch 4/40\n",
      "181/181 [==============================] - 13s 72ms/step - loss: 0.3843 - accuracy: 0.8460 - val_loss: 0.3933 - val_accuracy: 0.8471\n",
      "Epoch 5/40\n",
      "181/181 [==============================] - 13s 72ms/step - loss: 0.3320 - accuracy: 0.8696 - val_loss: 0.3140 - val_accuracy: 0.8745\n",
      "Epoch 6/40\n",
      "181/181 [==============================] - 13s 72ms/step - loss: 0.2602 - accuracy: 0.9003 - val_loss: 0.2830 - val_accuracy: 0.8922\n",
      "Epoch 7/40\n",
      "181/181 [==============================] - 13s 70ms/step - loss: 0.2288 - accuracy: 0.9152 - val_loss: 0.3537 - val_accuracy: 0.8549\n",
      "Epoch 8/40\n",
      "181/181 [==============================] - 13s 73ms/step - loss: 0.2059 - accuracy: 0.9204 - val_loss: 0.2134 - val_accuracy: 0.9176\n",
      "Epoch 9/40\n",
      "181/181 [==============================] - 13s 70ms/step - loss: 0.1694 - accuracy: 0.9398 - val_loss: 0.2348 - val_accuracy: 0.9000\n",
      "Epoch 10/40\n",
      "181/181 [==============================] - 13s 70ms/step - loss: 0.1693 - accuracy: 0.9370 - val_loss: 0.2196 - val_accuracy: 0.9216\n",
      "Epoch 11/40\n",
      "181/181 [==============================] - 13s 73ms/step - loss: 0.1238 - accuracy: 0.9536 - val_loss: 0.1880 - val_accuracy: 0.9353\n",
      "Epoch 12/40\n",
      "181/181 [==============================] - 13s 73ms/step - loss: 0.1160 - accuracy: 0.9543 - val_loss: 0.1851 - val_accuracy: 0.9451\n",
      "Epoch 13/40\n",
      "181/181 [==============================] - 13s 73ms/step - loss: 0.1221 - accuracy: 0.9592 - val_loss: 0.1733 - val_accuracy: 0.9451\n",
      "Epoch 14/40\n",
      "181/181 [==============================] - 13s 73ms/step - loss: 0.0966 - accuracy: 0.9678 - val_loss: 0.2103 - val_accuracy: 0.9255\n",
      "Epoch 15/40\n",
      "181/181 [==============================] - 14s 79ms/step - loss: 0.0954 - accuracy: 0.9671 - val_loss: 0.1769 - val_accuracy: 0.9471\n",
      "Epoch 16/40\n",
      "181/181 [==============================] - 14s 79ms/step - loss: 0.0733 - accuracy: 0.9768 - val_loss: 0.1557 - val_accuracy: 0.9490\n",
      "Epoch 17/40\n",
      "181/181 [==============================] - 15s 82ms/step - loss: 0.0814 - accuracy: 0.9709 - val_loss: 0.1520 - val_accuracy: 0.9490\n",
      "Epoch 18/40\n",
      "181/181 [==============================] - 14s 77ms/step - loss: 0.0806 - accuracy: 0.9723 - val_loss: 0.1844 - val_accuracy: 0.9490\n",
      "Epoch 19/40\n",
      "181/181 [==============================] - 14s 79ms/step - loss: 0.0620 - accuracy: 0.9806 - val_loss: 0.1765 - val_accuracy: 0.9471\n",
      "Epoch 20/40\n",
      "181/181 [==============================] - 14s 77ms/step - loss: 0.0765 - accuracy: 0.9734 - val_loss: 0.1791 - val_accuracy: 0.9510\n",
      "Epoch 21/40\n",
      "181/181 [==============================] - 14s 78ms/step - loss: 0.0523 - accuracy: 0.9834 - val_loss: 0.1665 - val_accuracy: 0.9549\n",
      "Epoch 22/40\n",
      "181/181 [==============================] - 14s 77ms/step - loss: 0.0419 - accuracy: 0.9865 - val_loss: 0.1674 - val_accuracy: 0.9569\n",
      "Epoch 23/40\n",
      "181/181 [==============================] - 14s 77ms/step - loss: 0.0483 - accuracy: 0.9830 - val_loss: 0.1853 - val_accuracy: 0.9510\n"
     ]
    }
   ],
   "source": [
    "# Train the model with callbacks\n",
    "history = combined_model.fit(\n",
    "    train_data,\n",
    "    train_labels,\n",
    "    epochs=40,\n",
    "    batch_size=16,\n",
    "    validation_split=0.15,\n",
    "    callbacks=[checkpoint_callback, early_stopping_callback]\n",
    ")"
   ]
  },
  {
   "cell_type": "code",
   "execution_count": 15,
   "id": "eb7b238a",
   "metadata": {},
   "outputs": [
    {
     "data": {
      "image/png": "[encoded data removed]",
      "text/plain": [
       "<Figure size 720x576 with 2 Axes>"
      ]
     },
     "metadata": {
      "needs_background": "light"
     },
     "output_type": "display_data"
    }
   ],
   "source": [
    "# Create a figure with subplots\n",
    "fig, axs = plt.subplots(2, 1, figsize=(10, 8))\n",
    "\n",
    "# Plot Accuracy\n",
    "axs[0].plot(history.history['accuracy'], label='Train Accuracy')\n",
    "axs[0].plot(history.history['val_accuracy'], label='Validation Accuracy')\n",
    "axs[0].set_title('Model Accuracy (CNN-LSTM)')\n",
    "axs[0].set_xlabel('Epoch')\n",
    "axs[0].set_ylabel('Accuracy')\n",
    "axs[0].legend(loc='upper left')\n",
    "\n",
    "# Plot Loss\n",
    "axs[1].plot(history.history['loss'], label='Train Loss')\n",
    "axs[1].plot(history.history['val_loss'], label='Validation Loss')\n",
    "axs[1].set_title('Model Loss (CNN-LSTM)')\n",
    "axs[1].set_xlabel('Epoch')\n",
    "axs[1].set_ylabel('Loss')\n",
    "axs[1].legend(loc='upper left')\n",
    "\n",
    "plt.tight_layout()\n",
    "plt.show()"
   ]
  },
  {
   "cell_type": "code",
   "execution_count": 19,
   "id": "d5a28e72",
   "metadata": {},
   "outputs": [],
   "source": [
    "#combined_model.save(\"trained_combined_model_Attention.h5\")"
   ]
  },
  {
   "cell_type": "code",
   "execution_count": null,
   "id": "8cd2f502",
   "metadata": {},
   "outputs": [],
   "source": []
  },
  {
   "cell_type": "code",
   "execution_count": null,
   "id": "cac06b16",
   "metadata": {},
   "outputs": [],
   "source": []
  }
 ],
 "metadata": {
  "kernelspec": {
   "display_name": "Python 3 (ipykernel)",
   "language": "python",
   "name": "python3"
  },
  "language_info": {
   "codemirror_mode": {
    "name": "ipython",
    "version": 3
   },
   "file_extension": ".py",
   "mimetype": "text/x-python",
   "name": "python",
   "nbconvert_exporter": "python",
   "pygments_lexer": "ipython3",
   "version": "3.8.20"
  }
 },
 "nbformat": 4,
 "nbformat_minor": 5
}
